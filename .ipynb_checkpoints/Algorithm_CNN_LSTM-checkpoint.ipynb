{
 "cells": [
  {
   "cell_type": "markdown",
   "metadata": {},
   "source": [
    "## Développement des modèles"
   ]
  },
  {
   "cell_type": "code",
   "execution_count": 15,
   "metadata": {},
   "outputs": [],
   "source": [
    "import numpy as np \n",
    "import pandas as pd \n",
    " \n",
    "from sklearn.feature_extraction.text import CountVectorizer\n",
    "from keras.preprocessing.text import Tokenizer\n",
    "from keras.preprocessing.sequence import pad_sequences\n",
    "from keras.models import Sequential\n",
    "from keras.layers import Dense, Embedding, LSTM,SpatialDropout1D, Dropout, Conv1D, GlobalMaxPooling1D\n",
    "from sklearn.model_selection import train_test_split\n",
    "from keras.utils.np_utils import to_categorical\n",
    "from keras.callbacks import EarlyStopping\n",
    "from keras.layers import  Activation, Flatten\n",
    "import re\n",
    "from sklearn import cross_validation \n",
    "from sklearn.metrics import accuracy_score\n",
    "from sklearn.metrics import roc_curve, auc\n",
    "from sklearn.metrics import confusion_matrix\n",
    "import itertools\n",
    "import matplotlib as mpl\n",
    "import matplotlib.pyplot as plt\n",
    "from nltk.tokenize import RegexpTokenizer\n",
    "from nltk.corpus import stopwords\n",
    "import nltk\n",
    "%matplotlib inline"
   ]
  },
  {
   "cell_type": "code",
   "execution_count": null,
   "metadata": {},
   "outputs": [],
   "source": []
  },
  {
   "cell_type": "code",
   "execution_count": 16,
   "metadata": {},
   "outputs": [],
   "source": [
    "# la fonction suivante me permettra de tracer la courbe ROC pour évaluer un modèle\n",
    "def generate_results(y_test, y_score, title):\n",
    "    # je calcule les taux des vrais positifs et faux négatifs\n",
    "    fpr, tpr, _ = roc_curve(y_test, y_score)\n",
    "    # je calcule la précision\n",
    "    roc_auc = auc(fpr, tpr)\n",
    "    # je trace un graphique\n",
    "    plt.figure()\n",
    "    # je mets la courbe dans le graphique\n",
    "    plt.plot(fpr, tpr, label='ROC curve (area = %0.2f)' % roc_auc)\n",
    "    plt.plot([0, 1, 2, 3], [0, 1, 2, 3], 'k--') #####\n",
    "    plt.xlim([0.0, 1.05])\n",
    "    plt.ylim([0.0, 1.05])\n",
    "    plt.xlabel('False Positive Rate')\n",
    "    plt.ylabel('True Positive Rate')\n",
    "    plt.title(title)\n",
    "    plt.show()\n",
    "    print('AUC: %f' % roc_auc)"
   ]
  },
  {
   "cell_type": "code",
   "execution_count": 17,
   "metadata": {},
   "outputs": [],
   "source": [
    "# cette fonction me permettra de tracer la matrice de confusion\n",
    "def plot_confusion_matrix(cm, classes,\n",
    "                          normalize=False,\n",
    "                          title='Confusion matrix',\n",
    "                          cmap=plt.cm.Blues):\n",
    "    # vu que réutilise la fonction dans tous les projet concernant la classification/regression\n",
    "    # des fois j'ai à comparer les résultats normalisés ou non\n",
    "    if normalize:\n",
    "        cm = cm.astype('float') / cm.sum(axis=1)[:, np.newaxis]\n",
    "        print(\"Normalized confusion matrix\")\n",
    "    else:\n",
    "        print('Confusion matrix, without normalization')\n",
    "\n",
    "    print(cm)\n",
    "\n",
    "    plt.imshow(cm, interpolation='nearest', cmap=cmap)\n",
    "    plt.title(title)\n",
    "    plt.colorbar()\n",
    "    tick_marks = np.arange(len(classes))\n",
    "    plt.xticks(tick_marks, classes, rotation=45)\n",
    "    plt.yticks(tick_marks, classes)\n",
    "\n",
    "    fmt = '.2f' if normalize else 'd'\n",
    "    thresh = cm.max() / 2.\n",
    "    for i, j in itertools.product(range(cm.shape[0]), range(cm.shape[1])):\n",
    "        plt.text(j, i, format(cm[i, j], fmt),\n",
    "                 horizontalalignment=\"center\",\n",
    "                 color=\"white\" if cm[i, j] > thresh else \"black\")\n",
    "\n",
    "    plt.tight_layout()\n",
    "    plt.ylabel('True label')\n",
    "    plt.xlabel('Predicted label')"
   ]
  },
  {
   "cell_type": "code",
   "execution_count": 18,
   "metadata": {},
   "outputs": [],
   "source": [
    "data = pd.read_csv('./CORPUS/Dataset.csv',sep=\";\")"
   ]
  },
  {
   "cell_type": "code",
   "execution_count": 19,
   "metadata": {},
   "outputs": [
    {
     "data": {
      "text/plain": [
       "(2387, 2)"
      ]
     },
     "execution_count": 19,
     "metadata": {},
     "output_type": "execute_result"
    }
   ],
   "source": [
    "data.shape"
   ]
  },
  {
   "cell_type": "code",
   "execution_count": 20,
   "metadata": {},
   "outputs": [
    {
     "name": "stdout",
     "output_type": "stream",
     "text": [
      "[511, 1294, 1860]\n"
     ]
    }
   ],
   "source": [
    "label = data[data['label'] == 'label'].index.tolist()\n",
    "print(label)"
   ]
  },
  {
   "cell_type": "code",
   "execution_count": 21,
   "metadata": {},
   "outputs": [],
   "source": [
    "# drop row\n",
    "for index in label:\n",
    "    data.drop(index, inplace=True)"
   ]
  },
  {
   "cell_type": "code",
   "execution_count": 22,
   "metadata": {},
   "outputs": [
    {
     "name": "stdout",
     "output_type": "stream",
     "text": [
      "565\n",
      "526\n",
      "511\n",
      "782\n"
     ]
    }
   ],
   "source": [
    "# je regarde si je n'ai rien perdu\n",
    "print(data.loc[ data['label'] == \"technologie\"].shape[0])\n",
    "print(data.loc[ data['label'] == \"hotel\"].shape[0])\n",
    "print(data.loc[ data['label'] == \"informatique\"].shape[0])\n",
    "print(data.loc[ data['label'] == \"science\"].shape[0])"
   ]
  },
  {
   "cell_type": "markdown",
   "metadata": {},
   "source": [
    "## Mix the dataset"
   ]
  },
  {
   "cell_type": "code",
   "execution_count": 23,
   "metadata": {},
   "outputs": [],
   "source": [
    "#mix the data \n",
    "data =data.sample(frac=1).reset_index(drop=True)"
   ]
  },
  {
   "cell_type": "code",
   "execution_count": 24,
   "metadata": {},
   "outputs": [
    {
     "data": {
      "text/html": [
       "<div>\n",
       "<style scoped>\n",
       "    .dataframe tbody tr th:only-of-type {\n",
       "        vertical-align: middle;\n",
       "    }\n",
       "\n",
       "    .dataframe tbody tr th {\n",
       "        vertical-align: top;\n",
       "    }\n",
       "\n",
       "    .dataframe thead th {\n",
       "        text-align: right;\n",
       "    }\n",
       "</style>\n",
       "<table border=\"1\" class=\"dataframe\">\n",
       "  <thead>\n",
       "    <tr style=\"text-align: right;\">\n",
       "      <th></th>\n",
       "      <th>description</th>\n",
       "      <th>label</th>\n",
       "    </tr>\n",
       "  </thead>\n",
       "  <tbody>\n",
       "    <tr>\n",
       "      <th>0</th>\n",
       "      <td>peuvent décrire êtres caractères stables commu...</td>\n",
       "      <td>science</td>\n",
       "    </tr>\n",
       "    <tr>\n",
       "      <th>1</th>\n",
       "      <td>réel visible sciences physiques mathématiques ...</td>\n",
       "      <td>science</td>\n",
       "    </tr>\n",
       "    <tr>\n",
       "      <th>2</th>\n",
       "      <td>animaux science cesse nouvelles découvertes jo...</td>\n",
       "      <td>science</td>\n",
       "    </tr>\n",
       "    <tr>\n",
       "      <th>3</th>\n",
       "      <td>utilisation politique confidentialité membres ...</td>\n",
       "      <td>science</td>\n",
       "    </tr>\n",
       "    <tr>\n",
       "      <th>4</th>\n",
       "      <td>steepness of slope the bike is and the amount ...</td>\n",
       "      <td>technologie</td>\n",
       "    </tr>\n",
       "    <tr>\n",
       "      <th>5</th>\n",
       "      <td>numérique puis vectorielle galilée newton démo...</td>\n",
       "      <td>science</td>\n",
       "    </tr>\n",
       "    <tr>\n",
       "      <th>6</th>\n",
       "      <td>esprit humain dû fois études complexes classif...</td>\n",
       "      <td>science</td>\n",
       "    </tr>\n",
       "    <tr>\n",
       "      <th>7</th>\n",
       "      <td>minute fonction promotions hôtel soeurs hotel ...</td>\n",
       "      <td>hotel</td>\n",
       "    </tr>\n",
       "  </tbody>\n",
       "</table>\n",
       "</div>"
      ],
      "text/plain": [
       "                                         description        label\n",
       "0  peuvent décrire êtres caractères stables commu...      science\n",
       "1  réel visible sciences physiques mathématiques ...      science\n",
       "2  animaux science cesse nouvelles découvertes jo...      science\n",
       "3  utilisation politique confidentialité membres ...      science\n",
       "4  steepness of slope the bike is and the amount ...  technologie\n",
       "5  numérique puis vectorielle galilée newton démo...      science\n",
       "6  esprit humain dû fois études complexes classif...      science\n",
       "7  minute fonction promotions hôtel soeurs hotel ...        hotel"
      ]
     },
     "execution_count": 24,
     "metadata": {},
     "output_type": "execute_result"
    }
   ],
   "source": [
    "data.head(8)"
   ]
  },
  {
   "cell_type": "code",
   "execution_count": 25,
   "metadata": {},
   "outputs": [],
   "source": [
    "data.loc[ data['label'] == \"hotel\"     ,\"label\"] =0\n",
    "data.loc[ data['label'] == \"technologie\",\"label\"] =1\n",
    "data.loc[ data['label'] == \"informatique\",\"label\"] =2\n",
    "data.loc[ data['label'] == \"science\",\"label\"] =3"
   ]
  },
  {
   "cell_type": "code",
   "execution_count": 27,
   "metadata": {},
   "outputs": [
    {
     "data": {
      "text/plain": [
       "{0, 1, 2, 3}"
      ]
     },
     "execution_count": 27,
     "metadata": {},
     "output_type": "execute_result"
    }
   ],
   "source": [
    "#del data['labels']\n",
    "set(data['label'])"
   ]
  },
  {
   "cell_type": "code",
   "execution_count": 28,
   "metadata": {},
   "outputs": [],
   "source": [
    "#\n",
    "data_Yaml = data.copy()\n",
    "data_reserve = data.copy()"
   ]
  },
  {
   "cell_type": "markdown",
   "metadata": {},
   "source": [
    "# Encode data description"
   ]
  },
  {
   "cell_type": "code",
   "execution_count": 29,
   "metadata": {},
   "outputs": [
    {
     "name": "stdout",
     "output_type": "stream",
     "text": [
      "Found 33066 unique tokens.\n"
     ]
    }
   ],
   "source": [
    "n_most_common_words = 130\n",
    "max_len = 130\n",
    "tokenizer = Tokenizer(num_words=n_most_common_words, filters='!\"#$%&()*+,-./:;<=>?@[\\]^_`{|}~', lower=True)\n",
    "tokenizer.fit_on_texts(data['description'].values)\n",
    "sequences = tokenizer.texts_to_sequences(data['description'].values)\n",
    "word_index = tokenizer.word_index\n",
    "print('Found %s unique tokens.' % len(word_index))\n",
    "\n",
    "X = pad_sequences(sequences, maxlen=max_len)"
   ]
  },
  {
   "cell_type": "code",
   "execution_count": 30,
   "metadata": {},
   "outputs": [
    {
     "data": {
      "text/plain": [
       "(2384, 130)"
      ]
     },
     "execution_count": 30,
     "metadata": {},
     "output_type": "execute_result"
    }
   ],
   "source": [
    "X.shape"
   ]
  },
  {
   "cell_type": "markdown",
   "metadata": {},
   "source": [
    "# Encode data labels"
   ]
  },
  {
   "cell_type": "code",
   "execution_count": 31,
   "metadata": {},
   "outputs": [],
   "source": [
    "#je récupère les labels\n",
    "Y = pd.get_dummies(data['label']).values"
   ]
  },
  {
   "cell_type": "code",
   "execution_count": 32,
   "metadata": {},
   "outputs": [
    {
     "name": "stdout",
     "output_type": "stream",
     "text": [
      "(2384, 130)\n"
     ]
    },
    {
     "data": {
      "text/plain": [
       "array([  0,   0,   0,   0,   0,   0,   0,   0,   0,   0,   0,   0,   0,\n",
       "         0,   0,   0,   0,   0,   0,   0,   0,   0,   0,   0,   0,   0,\n",
       "         0,   0,   0,   0,   0,   0,   0,   0,   0,   0,   0,   0,   0,\n",
       "         0,   0,   0,   0,   0,   0,   0,   0,   0,   0,   0,   0,   0,\n",
       "         0,   0,   0,   0,   0,   0,   0,   0,   0,   0,   0,   0,   0,\n",
       "         0,   0,   0,   0,   0,   0,   0,   0,   0,   0,   0,   0,   0,\n",
       "         0,   0,   0,   0,   0,   0,   0,   0,   0,   0,   0,   0,   0,\n",
       "         0,   0,   0,   0,   0,   0,   0,   0,   0,   0,   0,   0,   0,\n",
       "         0,   0,   0,   0,   0,   0,   0,   0,   6,  61,  53,  18,  74,\n",
       "        56,  56, 120,  71,   9,  56,  95, 110,   3,  74,  72,  41,  21],\n",
       "      dtype=int32)"
      ]
     },
     "execution_count": 32,
     "metadata": {},
     "output_type": "execute_result"
    }
   ],
   "source": [
    "print (X.shape)\n",
    "X[2]"
   ]
  },
  {
   "cell_type": "code",
   "execution_count": 33,
   "metadata": {},
   "outputs": [],
   "source": [
    "epochs = 5\n",
    "emb_dim = 128\n",
    "batch_size = 40"
   ]
  },
  {
   "cell_type": "code",
   "execution_count": 34,
   "metadata": {},
   "outputs": [
    {
     "name": "stdout",
     "output_type": "stream",
     "text": [
      "(1668, 130) (1668, 4)\n",
      "(716, 130) (716, 4)\n",
      "[[0 0 0 1]\n",
      " [0 0 0 1]\n",
      " [0 0 0 1]\n",
      " ...\n",
      " [1 0 0 0]\n",
      " [1 0 0 0]\n",
      " [0 0 0 1]]\n"
     ]
    }
   ],
   "source": [
    "# on divise nos données en données d'entrainement et de test (70% / 30%)\n",
    "X_train, X_test, y_train, y_test = train_test_split(X,Y, test_size = 0.3, random_state = 42)\n",
    "print(X_train.shape, y_train.shape)\n",
    "print(X_test.shape , y_test.shape)\n",
    "print(Y)"
   ]
  },
  {
   "cell_type": "markdown",
   "metadata": {},
   "source": [
    "# First model LSTM "
   ]
  },
  {
   "cell_type": "markdown",
   "metadata": {},
   "source": [
    "## LSTM with 4 layers "
   ]
  },
  {
   "cell_type": "code",
   "execution_count": 35,
   "metadata": {},
   "outputs": [
    {
     "name": "stdout",
     "output_type": "stream",
     "text": [
      "((1668, 130), (1668, 4), (716, 130), (716, 4))\n",
      "_________________________________________________________________\n",
      "Layer (type)                 Output Shape              Param #   \n",
      "=================================================================\n",
      "embedding_1 (Embedding)      (None, 130, 128)          16640     \n",
      "_________________________________________________________________\n",
      "spatial_dropout1d_1 (Spatial (None, 130, 128)          0         \n",
      "_________________________________________________________________\n",
      "lstm_1 (LSTM)                (None, 64)                49408     \n",
      "_________________________________________________________________\n",
      "dense_1 (Dense)              (None, 4)                 260       \n",
      "=================================================================\n",
      "Total params: 66,308\n",
      "Trainable params: 66,308\n",
      "Non-trainable params: 0\n",
      "_________________________________________________________________\n",
      "None\n",
      "Train on 1334 samples, validate on 334 samples\n",
      "Epoch 1/5\n",
      "1334/1334 [==============================] - 14s 11ms/step - loss: 1.3543 - acc: 0.3801 - val_loss: 1.2947 - val_acc: 0.4311\n",
      "Epoch 2/5\n",
      "1334/1334 [==============================] - 13s 10ms/step - loss: 1.1729 - acc: 0.5307 - val_loss: 0.9195 - val_acc: 0.6916\n",
      "Epoch 3/5\n",
      "1334/1334 [==============================] - 14s 10ms/step - loss: 0.8542 - acc: 0.6754 - val_loss: 0.6794 - val_acc: 0.7455\n",
      "Epoch 4/5\n",
      "1334/1334 [==============================] - 13s 9ms/step - loss: 0.6886 - acc: 0.7264 - val_loss: 0.5649 - val_acc: 0.7695\n",
      "Epoch 5/5\n",
      "1334/1334 [==============================] - 13s 10ms/step - loss: 0.5940 - acc: 0.7714 - val_loss: 0.5226 - val_acc: 0.7874\n"
     ]
    }
   ],
   "source": [
    "print((X_train.shape, y_train.shape, X_test.shape, y_test.shape))\n",
    "global model\n",
    "model = Sequential()\n",
    "model.add(Embedding(n_most_common_words, emb_dim, input_length=X.shape[1]))\n",
    "model.add(SpatialDropout1D(0.7))\n",
    "model.add(LSTM(64, dropout=0.2, recurrent_dropout=0.7))\n",
    "model.add(Dense(4, activation='softmax'))\n",
    "model.compile(optimizer='adam', loss='categorical_crossentropy', metrics=['acc'])\n",
    "print(model.summary())\n",
    "history = model.fit(X_train, y_train, epochs=epochs, batch_size=batch_size,validation_split=0.2,callbacks=[EarlyStopping(monitor='val_loss',patience=7, min_delta=0.0001)])"
   ]
  },
  {
   "cell_type": "code",
   "execution_count": 36,
   "metadata": {},
   "outputs": [
    {
     "name": "stdout",
     "output_type": "stream",
     "text": [
      "716/716 [==============================] - 1s 2ms/step\n",
      "Test set\n",
      " Accuracy: 0.816\n"
     ]
    }
   ],
   "source": [
    "accr = model.evaluate(X_test,y_test)\n",
    "print('Test set\\n Accuracy: {:0.3f}'.format(accr[1]))"
   ]
  },
  {
   "cell_type": "code",
   "execution_count": 37,
   "metadata": {},
   "outputs": [],
   "source": [
    "# prédire les classes de l'ensemble de test\n",
    "Y_score = model.predict_classes(X_test)\n",
    "#print(Y_score)"
   ]
  },
  {
   "cell_type": "markdown",
   "metadata": {},
   "source": [
    "# Decode"
   ]
  },
  {
   "cell_type": "code",
   "execution_count": 38,
   "metadata": {},
   "outputs": [],
   "source": [
    "def decode(datum):\n",
    "    return np.argmax(datum)"
   ]
  },
  {
   "cell_type": "code",
   "execution_count": 39,
   "metadata": {},
   "outputs": [],
   "source": [
    "def decode_categorical(file_data):\n",
    "    liste = []\n",
    "    for i in range(file_data.shape[0]):\n",
    "        decoded_datum = decode(file_data[i])\n",
    "        #print(' decoded datum: %d ' %  decoded_datum)\n",
    "        liste.append(decoded_datum)\n",
    "    return liste    "
   ]
  },
  {
   "cell_type": "code",
   "execution_count": 40,
   "metadata": {},
   "outputs": [],
   "source": [
    "Y_test_decoder = decode_categorical(y_test)"
   ]
  },
  {
   "cell_type": "code",
   "execution_count": 41,
   "metadata": {},
   "outputs": [],
   "source": [
    "# afficher la matrice de confusion\n",
    "cnf_matrix = confusion_matrix( Y_test_decoder , Y_score.tolist())"
   ]
  },
  {
   "cell_type": "code",
   "execution_count": 42,
   "metadata": {},
   "outputs": [
    {
     "name": "stdout",
     "output_type": "stream",
     "text": [
      "Confusion matrix, without normalization\n",
      "[[148   3   5   4]\n",
      " [  0  89  55  27]\n",
      " [  1  13 123   6]\n",
      " [  2  14   2 224]]\n"
     ]
    },
    {
     "data": {
      "image/png": "[encoded data removed]",
      "text/plain": [
       "<Figure size 432x288 with 2 Axes>"
      ]
     },
     "metadata": {},
     "output_type": "display_data"
    }
   ],
   "source": [
    "# afficher la matrice de confusion\n",
    "plt.figure()\n",
    "plot_confusion_matrix(cnf_matrix, classes=[0,1,2,3],\n",
    "                      title='Confusion matrix for LSTM')"
   ]
  },
  {
   "cell_type": "markdown",
   "metadata": {},
   "source": [
    "# Seconde model  CNN"
   ]
  },
  {
   "cell_type": "markdown",
   "metadata": {},
   "source": [
    "## Réseau à convolution - CNN with "
   ]
  },
  {
   "cell_type": "code",
   "execution_count": 44,
   "metadata": {},
   "outputs": [
    {
     "name": "stdout",
     "output_type": "stream",
     "text": [
      "_________________________________________________________________\n",
      "Layer (type)                 Output Shape              Param #   \n",
      "=================================================================\n",
      "embedding_2 (Embedding)      (None, 130, 128)          16640     \n",
      "_________________________________________________________________\n",
      "dropout_1 (Dropout)          (None, 130, 128)          0         \n",
      "_________________________________________________________________\n",
      "conv1d_1 (Conv1D)            (None, 126, 10)           6410      \n",
      "_________________________________________________________________\n",
      "global_max_pooling1d_1 (Glob (None, 10)                0         \n",
      "_________________________________________________________________\n",
      "dense_2 (Dense)              (None, 100)               1100      \n",
      "_________________________________________________________________\n",
      "dropout_2 (Dropout)          (None, 100)               0         \n",
      "_________________________________________________________________\n",
      "dense_3 (Dense)              (None, 4)                 404       \n",
      "=================================================================\n",
      "Total params: 24,554\n",
      "Trainable params: 24,554\n",
      "Non-trainable params: 0\n",
      "_________________________________________________________________\n",
      "None\n",
      "Train on 1334 samples, validate on 334 samples\n",
      "Epoch 1/10\n",
      "1334/1334 [==============================] - 2s 2ms/step - loss: 1.3648 - acc: 0.3276 - val_loss: 1.3248 - val_acc: 0.3234\n",
      "Epoch 2/10\n",
      "1334/1334 [==============================] - 1s 845us/step - loss: 1.1956 - acc: 0.4520 - val_loss: 0.9649 - val_acc: 0.7275\n",
      "Epoch 3/10\n",
      "1334/1334 [==============================] - 1s 830us/step - loss: 0.6896 - acc: 0.7841 - val_loss: 0.4568 - val_acc: 0.8383\n",
      "Epoch 4/10\n",
      "1334/1334 [==============================] - 1s 800us/step - loss: 0.4315 - acc: 0.8471 - val_loss: 0.3478 - val_acc: 0.8802\n",
      "Epoch 5/10\n",
      "1334/1334 [==============================] - 1s 783us/step - loss: 0.3468 - acc: 0.8711 - val_loss: 0.3307 - val_acc: 0.8832\n",
      "Epoch 6/10\n",
      "1334/1334 [==============================] - 1s 786us/step - loss: 0.3007 - acc: 0.8898 - val_loss: 0.3271 - val_acc: 0.8862\n",
      "Epoch 7/10\n",
      "1334/1334 [==============================] - 1s 769us/step - loss: 0.2520 - acc: 0.9078 - val_loss: 0.3414 - val_acc: 0.8832\n",
      "Epoch 8/10\n",
      "1334/1334 [==============================] - 1s 765us/step - loss: 0.2537 - acc: 0.9070 - val_loss: 0.3443 - val_acc: 0.8832\n",
      "Epoch 9/10\n",
      "1334/1334 [==============================] - 1s 780us/step - loss: 0.2030 - acc: 0.9258 - val_loss: 0.3340 - val_acc: 0.8922\n",
      "Epoch 10/10\n",
      "1334/1334 [==============================] - 1s 784us/step - loss: 0.1843 - acc: 0.9370 - val_loss: 0.3583 - val_acc: 0.8862\n"
     ]
    }
   ],
   "source": [
    "## https://medium.com/@CharlesCrouspeyre/comment-les-r%C3%A9seaux-de-neurones-%C3%A0-convolution-fonctionnent-b288519dbcf8\n",
    "global conv1\n",
    "#construire un réseau à convolution avec 7 couches\n",
    "max_fatures = n_most_common_words\n",
    "vocab_size = 130\n",
    "seq_len = 130\n",
    "filters = 10\n",
    "kernel_size = 5\n",
    "conv1 = Sequential([\n",
    "    Embedding(max_fatures, emb_dim, input_length = X_train.shape[1]),\n",
    "    Dropout(0.2),\n",
    "    Conv1D(filters, kernel_size, activation='relu',strides=1),\n",
    "    GlobalMaxPooling1D(),\n",
    "    Dense(100, activation='relu'),\n",
    "    Dropout(0.4),\n",
    "    Dense(4, activation='sigmoid')])\n",
    "conv1.compile(optimizer='adam', loss='categorical_crossentropy', metrics=['acc'])\n",
    "print(conv1.summary())\n",
    "history = conv1.fit(X_train, y_train, epochs= 10, batch_size=batch_size,validation_split=0.2,\n",
    "                    callbacks=[EarlyStopping(monitor='val_loss',patience=7, min_delta=0.0001)])"
   ]
  },
  {
   "cell_type": "code",
   "execution_count": 46,
   "metadata": {},
   "outputs": [
    {
     "name": "stdout",
     "output_type": "stream",
     "text": [
      "716/716 [==============================] - 0s 172us/step\n",
      "Test set\n",
      " Losse :  0.321 \n",
      " Accuracy: 0.885\n"
     ]
    }
   ],
   "source": [
    "accr = conv1.evaluate(X_test,y_test)\n",
    "print('Test set\\n Losse :  {:0.3f} \\n Accuracy: {:0.3f}'.format(accr[0], accr[1]))"
   ]
  },
  {
   "cell_type": "code",
   "execution_count": 47,
   "metadata": {},
   "outputs": [],
   "source": [
    "# prédire les classes de l'ensemble de test\n",
    "Y_score_2 = conv1.predict_classes(X_test)\n",
    "#print(Y_score)"
   ]
  },
  {
   "cell_type": "code",
   "execution_count": 48,
   "metadata": {},
   "outputs": [],
   "source": [
    "# afficher la matrice de confusion\n",
    "cnf_matrix_2 = confusion_matrix( Y_test_decoder , Y_score_2.tolist())"
   ]
  },
  {
   "cell_type": "code",
   "execution_count": 49,
   "metadata": {},
   "outputs": [
    {
     "name": "stdout",
     "output_type": "stream",
     "text": [
      "Confusion matrix, without normalization\n",
      "[[154   1   2   3]\n",
      " [  0 143  15  13]\n",
      " [  2  20 115   6]\n",
      " [  2  15   3 222]]\n"
     ]
    },
    {
     "data": {
      "image/png": "[encoded data removed]",
      "text/plain": [
       "<Figure size 432x288 with 2 Axes>"
      ]
     },
     "metadata": {},
     "output_type": "display_data"
    }
   ],
   "source": [
    "# afficher la matrice de confusion\n",
    "plt.figure()\n",
    "plot_confusion_matrix(cnf_matrix_2, classes=[0,1,2,3],\n",
    "                      title='Confusion matrix for LSTM')"
   ]
  },
  {
   "cell_type": "code",
   "execution_count": null,
   "metadata": {},
   "outputs": [],
   "source": []
  },
  {
   "cell_type": "markdown",
   "metadata": {},
   "source": [
    "# Courbe de Roc"
   ]
  },
  {
   "cell_type": "code",
   "execution_count": 50,
   "metadata": {},
   "outputs": [
    {
     "name": "stderr",
     "output_type": "stream",
     "text": [
      "/home/nchet/anaconda3/lib/python3.6/site-packages/sklearn/utils/deprecation.py:77: DeprecationWarning: Function plot_precision_recall_curve is deprecated; This will be removed in v0.5.0. Please use scikitplot.metrics.plot_precision_recall instead.\n",
      "  warnings.warn(msg, category=DeprecationWarning)\n"
     ]
    },
    {
     "data": {
      "image/png": "[encoded data removed]",
      "text/plain": [
       "<Figure size 432x288 with 1 Axes>"
      ]
     },
     "metadata": {},
     "output_type": "display_data"
    }
   ],
   "source": [
    "import scikitplot as skplt\n",
    "import matplotlib.pyplot as plt\n",
    "\n",
    "y_true = Y_test_decoder\n",
    "y_probas = conv1.predict_proba(X_test, batch_size=64)\n",
    "skplt.metrics.plot_precision_recall_curve(y_true, y_probas)\n",
    "plt.show()"
   ]
  },
  {
   "cell_type": "markdown",
   "metadata": {},
   "source": [
    "# Compute the F1_score, precision and recall"
   ]
  },
  {
   "cell_type": "code",
   "execution_count": null,
   "metadata": {},
   "outputs": [],
   "source": []
  },
  {
   "cell_type": "code",
   "execution_count": 51,
   "metadata": {},
   "outputs": [
    {
     "name": "stdout",
     "output_type": "stream",
     "text": [
      "=== Rapport de classification ===\n",
      "             precision    recall  f1-score   support\n",
      "\n",
      "          0       0.97      0.96      0.97       160\n",
      "          1       0.80      0.84      0.82       171\n",
      "          2       0.85      0.80      0.83       143\n",
      "          3       0.91      0.92      0.91       242\n",
      "\n",
      "avg / total       0.89      0.89      0.89       716\n",
      "\n",
      "\\ n\n"
     ]
    }
   ],
   "source": [
    "from sklearn.model_selection import cross_val_score\n",
    "from sklearn.metrics import classification_report, confusion_matrix\n",
    "#y_pred = model.predict(X_test)\n",
    "print (\"=== Rapport de classification ===\")\n",
    "print (classification_report (  Y_test_decoder, Y_score_2) )\n",
    "print ('\\ n')"
   ]
  },
  {
   "cell_type": "markdown",
   "metadata": {},
   "source": [
    "# Save all model lstm and cnn in HDF"
   ]
  },
  {
   "cell_type": "markdown",
   "metadata": {},
   "source": [
    "#"
   ]
  },
  {
   "cell_type": "code",
   "execution_count": 52,
   "metadata": {},
   "outputs": [],
   "source": [
    "# sauvegarder le modèle\n",
    "conv1.save(\"./Models/model_conv_epochs_stopped_at_5.model\")\n",
    "model.save(\"./Models/model_lstm_epochs_stopped_at_5.model\")"
   ]
  },
  {
   "cell_type": "markdown",
   "metadata": {},
   "source": [
    "### Transform the data to a dictionnary"
   ]
  },
  {
   "cell_type": "code",
   "execution_count": null,
   "metadata": {},
   "outputs": [],
   "source": [
    "data_Yaml_ = data_Yaml.to_dict()"
   ]
  },
  {
   "cell_type": "markdown",
   "metadata": {},
   "source": [
    "### Serialize the file data to yaml file"
   ]
  },
  {
   "cell_type": "code",
   "execution_count": 62,
   "metadata": {},
   "outputs": [],
   "source": [
    "import yaml\n",
    "#Unique_stock_yaml = data_Yaml_.to_yaml()\n",
    "with open(\"./Models/unique_model_cnn_lstm.yaml\", \"w\") as file:\n",
    "    documents = yaml.dump(data_Yaml_, file)"
   ]
  },
  {
   "cell_type": "markdown",
   "metadata": {},
   "source": [
    "###  Serialize model to YAML"
   ]
  },
  {
   "cell_type": "code",
   "execution_count": 64,
   "metadata": {},
   "outputs": [],
   "source": [
    "from keras.models import model_from_yaml\n",
    "\n",
    "## https://machinelearningmastery.com/save-load-keras-deep-learning-models/\n",
    "model_yaml = model.to_yaml()\n",
    "with open(\"./Models/model.yaml\", \"w\") as yaml_file:\n",
    "    yaml_file.write(model_yaml)\n",
    "\n",
    "conv1_yaml = conv1.to_yaml()\n",
    "with open(\"./Models/conv.yaml\", \"w\") as yaml_file:\n",
    "    yaml_file.write(conv1_yaml)"
   ]
  },
  {
   "cell_type": "markdown",
   "metadata": {},
   "source": [
    "### Serialize weights to HDF5"
   ]
  },
  {
   "cell_type": "code",
   "execution_count": null,
   "metadata": {},
   "outputs": [],
   "source": [
    "model.save_weights(\"./Models/model.h5\")\n",
    "print(\"Saved model in file\")\n",
    "\n",
    "# serialize weights to HDF5\n",
    "conv1.save_weights(\"./Models/conv1.h5\")\n",
    "print(\"Saved model in file \")"
   ]
  },
  {
   "cell_type": "code",
   "execution_count": null,
   "metadata": {},
   "outputs": [],
   "source": []
  }
 ],
 "metadata": {
  "kernelspec": {
   "display_name": "Python 3",
   "language": "python",
   "name": "python3"
  },
  "language_info": {
   "codemirror_mode": {
    "name": "ipython",
    "version": 3
   },
   "file_extension": ".py",
   "mimetype": "text/x-python",
   "name": "python",
   "nbconvert_exporter": "python",
   "pygments_lexer": "ipython3",
   "version": "3.6.5"
  }
 },
 "nbformat": 4,
 "nbformat_minor": 2
}
